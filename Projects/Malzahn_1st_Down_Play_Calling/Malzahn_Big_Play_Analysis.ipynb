{
 "cells": [
  {
   "cell_type": "markdown",
   "metadata": {},
   "source": [
    "## An Analysis of Gus Malzahn's 1st down play calls after a big play (20+ yards)"
   ]
  },
  {
   "cell_type": "code",
   "execution_count": 1,
   "metadata": {},
   "outputs": [],
   "source": [
    "import pandas as pd\n",
    "import numpy as np\n",
    "import urllib\n",
    "import matplotlib\n",
    "import matplotlib.pyplot as plt"
   ]
  },
  {
   "cell_type": "markdown",
   "metadata": {},
   "source": [
    " "
   ]
  },
  {
   "cell_type": "markdown",
   "metadata": {},
   "source": [
    "#### Establish the API Base URL and what we define as a \"big play\""
   ]
  },
  {
   "cell_type": "code",
   "execution_count": 2,
   "metadata": {},
   "outputs": [],
   "source": [
    "base = 'https://api.collegefootballdata.com'\n",
    "big_play_minimum = 20"
   ]
  },
  {
   "cell_type": "markdown",
   "metadata": {},
   "source": [
    " "
   ]
  },
  {
   "cell_type": "markdown",
   "metadata": {},
   "source": [
    "#### Identify the coach to analyze and fetch his data from the API"
   ]
  },
  {
   "cell_type": "code",
   "execution_count": 3,
   "metadata": {},
   "outputs": [
    {
     "data": {
      "text/html": [
       "<div>\n",
       "<style scoped>\n",
       "    .dataframe tbody tr th:only-of-type {\n",
       "        vertical-align: middle;\n",
       "    }\n",
       "\n",
       "    .dataframe tbody tr th {\n",
       "        vertical-align: top;\n",
       "    }\n",
       "\n",
       "    .dataframe thead th {\n",
       "        text-align: right;\n",
       "    }\n",
       "</style>\n",
       "<table border=\"1\" class=\"dataframe\">\n",
       "  <thead>\n",
       "    <tr style=\"text-align: right;\">\n",
       "      <th></th>\n",
       "      <th>first_name</th>\n",
       "      <th>last_name</th>\n",
       "      <th>seasons</th>\n",
       "    </tr>\n",
       "  </thead>\n",
       "  <tbody>\n",
       "    <tr>\n",
       "      <th>0</th>\n",
       "      <td>Gus</td>\n",
       "      <td>Malzahn</td>\n",
       "      <td>[{'school': 'Arkansas State', 'year': 2012, 'g...</td>\n",
       "    </tr>\n",
       "  </tbody>\n",
       "</table>\n",
       "</div>"
      ],
      "text/plain": [
       "  first_name last_name                                            seasons\n",
       "0        Gus   Malzahn  [{'school': 'Arkansas State', 'year': 2012, 'g..."
      ]
     },
     "execution_count": 3,
     "metadata": {},
     "output_type": "execute_result"
    }
   ],
   "source": [
    "coach_first_name = 'Gus'\n",
    "coach_last_name = 'Malzahn'\n",
    "coach_df = pd.read_json('{}/coaches?firstName={}&lastName={}'.format(base, coach_first_name, coach_last_name))\n",
    "coach_df"
   ]
  },
  {
   "cell_type": "markdown",
   "metadata": {},
   "source": [
    " "
   ]
  },
  {
   "cell_type": "markdown",
   "metadata": {},
   "source": [
    "#### Format the JSON from the API response into a useful dataframe"
   ]
  },
  {
   "cell_type": "code",
   "execution_count": 4,
   "metadata": {},
   "outputs": [
    {
     "data": {
      "text/html": [
       "<div>\n",
       "<style scoped>\n",
       "    .dataframe tbody tr th:only-of-type {\n",
       "        vertical-align: middle;\n",
       "    }\n",
       "\n",
       "    .dataframe tbody tr th {\n",
       "        vertical-align: top;\n",
       "    }\n",
       "\n",
       "    .dataframe thead th {\n",
       "        text-align: right;\n",
       "    }\n",
       "</style>\n",
       "<table border=\"1\" class=\"dataframe\">\n",
       "  <thead>\n",
       "    <tr style=\"text-align: right;\">\n",
       "      <th></th>\n",
       "      <th>0</th>\n",
       "    </tr>\n",
       "  </thead>\n",
       "  <tbody>\n",
       "    <tr>\n",
       "      <th>0</th>\n",
       "      <td>{'school': 'Arkansas State', 'year': 2012, 'ga...</td>\n",
       "    </tr>\n",
       "    <tr>\n",
       "      <th>1</th>\n",
       "      <td>{'school': 'Auburn', 'year': 2013, 'games': 14...</td>\n",
       "    </tr>\n",
       "    <tr>\n",
       "      <th>2</th>\n",
       "      <td>{'school': 'Auburn', 'year': 2014, 'games': 13...</td>\n",
       "    </tr>\n",
       "    <tr>\n",
       "      <th>3</th>\n",
       "      <td>{'school': 'Auburn', 'year': 2015, 'games': 13...</td>\n",
       "    </tr>\n",
       "    <tr>\n",
       "      <th>4</th>\n",
       "      <td>{'school': 'Auburn', 'year': 2016, 'games': 13...</td>\n",
       "    </tr>\n",
       "    <tr>\n",
       "      <th>5</th>\n",
       "      <td>{'school': 'Auburn', 'year': 2017, 'games': 14...</td>\n",
       "    </tr>\n",
       "    <tr>\n",
       "      <th>6</th>\n",
       "      <td>{'school': 'Auburn', 'year': 2018, 'games': 13...</td>\n",
       "    </tr>\n",
       "    <tr>\n",
       "      <th>7</th>\n",
       "      <td>{'school': 'Auburn', 'year': 2019, 'games': 13...</td>\n",
       "    </tr>\n",
       "    <tr>\n",
       "      <th>8</th>\n",
       "      <td>{'school': 'Auburn', 'year': 2020, 'games': 0,...</td>\n",
       "    </tr>\n",
       "  </tbody>\n",
       "</table>\n",
       "</div>"
      ],
      "text/plain": [
       "                                                   0\n",
       "0  {'school': 'Arkansas State', 'year': 2012, 'ga...\n",
       "1  {'school': 'Auburn', 'year': 2013, 'games': 14...\n",
       "2  {'school': 'Auburn', 'year': 2014, 'games': 13...\n",
       "3  {'school': 'Auburn', 'year': 2015, 'games': 13...\n",
       "4  {'school': 'Auburn', 'year': 2016, 'games': 13...\n",
       "5  {'school': 'Auburn', 'year': 2017, 'games': 14...\n",
       "6  {'school': 'Auburn', 'year': 2018, 'games': 13...\n",
       "7  {'school': 'Auburn', 'year': 2019, 'games': 13...\n",
       "8  {'school': 'Auburn', 'year': 2020, 'games': 0,..."
      ]
     },
     "execution_count": 4,
     "metadata": {},
     "output_type": "execute_result"
    }
   ],
   "source": [
    "coach_df2 = pd.read_json(coach_df['seasons'].to_json(orient='columns'))\n",
    "coach_df2"
   ]
  },
  {
   "cell_type": "code",
   "execution_count": 5,
   "metadata": {},
   "outputs": [
    {
     "data": {
      "text/html": [
       "<div>\n",
       "<style scoped>\n",
       "    .dataframe tbody tr th:only-of-type {\n",
       "        vertical-align: middle;\n",
       "    }\n",
       "\n",
       "    .dataframe tbody tr th {\n",
       "        vertical-align: top;\n",
       "    }\n",
       "\n",
       "    .dataframe thead th {\n",
       "        text-align: right;\n",
       "    }\n",
       "</style>\n",
       "<table border=\"1\" class=\"dataframe\">\n",
       "  <thead>\n",
       "    <tr style=\"text-align: right;\">\n",
       "      <th></th>\n",
       "      <th>games</th>\n",
       "      <th>losses</th>\n",
       "      <th>postseason_rank</th>\n",
       "      <th>preseason_rank</th>\n",
       "      <th>school</th>\n",
       "      <th>sp_defense</th>\n",
       "      <th>sp_offense</th>\n",
       "      <th>sp_overall</th>\n",
       "      <th>srs</th>\n",
       "      <th>ties</th>\n",
       "      <th>wins</th>\n",
       "      <th>year</th>\n",
       "    </tr>\n",
       "  </thead>\n",
       "  <tbody>\n",
       "    <tr>\n",
       "      <th>0</th>\n",
       "      <td>12</td>\n",
       "      <td>3</td>\n",
       "      <td>None</td>\n",
       "      <td>None</td>\n",
       "      <td>Arkansas State</td>\n",
       "      <td>30.2</td>\n",
       "      <td>32.5</td>\n",
       "      <td>1.2</td>\n",
       "      <td>3.6</td>\n",
       "      <td>0</td>\n",
       "      <td>9</td>\n",
       "      <td>2012</td>\n",
       "    </tr>\n",
       "    <tr>\n",
       "      <th>1</th>\n",
       "      <td>14</td>\n",
       "      <td>2</td>\n",
       "      <td>2</td>\n",
       "      <td>None</td>\n",
       "      <td>Auburn</td>\n",
       "      <td>23.4</td>\n",
       "      <td>46.8</td>\n",
       "      <td>25.2</td>\n",
       "      <td>22.1</td>\n",
       "      <td>0</td>\n",
       "      <td>12</td>\n",
       "      <td>2013</td>\n",
       "    </tr>\n",
       "    <tr>\n",
       "      <th>2</th>\n",
       "      <td>13</td>\n",
       "      <td>5</td>\n",
       "      <td>22</td>\n",
       "      <td>6</td>\n",
       "      <td>Auburn</td>\n",
       "      <td>22.1</td>\n",
       "      <td>45.2</td>\n",
       "      <td>24.2</td>\n",
       "      <td>21.1</td>\n",
       "      <td>0</td>\n",
       "      <td>8</td>\n",
       "      <td>2014</td>\n",
       "    </tr>\n",
       "    <tr>\n",
       "      <th>3</th>\n",
       "      <td>13</td>\n",
       "      <td>6</td>\n",
       "      <td>None</td>\n",
       "      <td>6</td>\n",
       "      <td>Auburn</td>\n",
       "      <td>23.1</td>\n",
       "      <td>36.1</td>\n",
       "      <td>14.6</td>\n",
       "      <td>9.1</td>\n",
       "      <td>0</td>\n",
       "      <td>7</td>\n",
       "      <td>2015</td>\n",
       "    </tr>\n",
       "    <tr>\n",
       "      <th>4</th>\n",
       "      <td>13</td>\n",
       "      <td>5</td>\n",
       "      <td>24</td>\n",
       "      <td>None</td>\n",
       "      <td>Auburn</td>\n",
       "      <td>18.4</td>\n",
       "      <td>32.1</td>\n",
       "      <td>15.3</td>\n",
       "      <td>16.8</td>\n",
       "      <td>0</td>\n",
       "      <td>8</td>\n",
       "      <td>2016</td>\n",
       "    </tr>\n",
       "    <tr>\n",
       "      <th>5</th>\n",
       "      <td>14</td>\n",
       "      <td>4</td>\n",
       "      <td>10</td>\n",
       "      <td>12</td>\n",
       "      <td>Auburn</td>\n",
       "      <td>11</td>\n",
       "      <td>35.4</td>\n",
       "      <td>24.7</td>\n",
       "      <td>23.6</td>\n",
       "      <td>0</td>\n",
       "      <td>10</td>\n",
       "      <td>2017</td>\n",
       "    </tr>\n",
       "    <tr>\n",
       "      <th>6</th>\n",
       "      <td>13</td>\n",
       "      <td>5</td>\n",
       "      <td>None</td>\n",
       "      <td>9</td>\n",
       "      <td>Auburn</td>\n",
       "      <td>14.1</td>\n",
       "      <td>36.9</td>\n",
       "      <td>23.6</td>\n",
       "      <td>15.0</td>\n",
       "      <td>0</td>\n",
       "      <td>8</td>\n",
       "      <td>2018</td>\n",
       "    </tr>\n",
       "    <tr>\n",
       "      <th>7</th>\n",
       "      <td>13</td>\n",
       "      <td>4</td>\n",
       "      <td>14</td>\n",
       "      <td>16</td>\n",
       "      <td>Auburn</td>\n",
       "      <td>14.9</td>\n",
       "      <td>33.9</td>\n",
       "      <td>21</td>\n",
       "      <td>22.1</td>\n",
       "      <td>0</td>\n",
       "      <td>9</td>\n",
       "      <td>2019</td>\n",
       "    </tr>\n",
       "    <tr>\n",
       "      <th>8</th>\n",
       "      <td>0</td>\n",
       "      <td>0</td>\n",
       "      <td>None</td>\n",
       "      <td>11</td>\n",
       "      <td>Auburn</td>\n",
       "      <td>20.7</td>\n",
       "      <td>33</td>\n",
       "      <td>12.6</td>\n",
       "      <td>13.3</td>\n",
       "      <td>0</td>\n",
       "      <td>0</td>\n",
       "      <td>2020</td>\n",
       "    </tr>\n",
       "  </tbody>\n",
       "</table>\n",
       "</div>"
      ],
      "text/plain": [
       "  games losses postseason_rank preseason_rank          school sp_defense  \\\n",
       "0    12      3            None           None  Arkansas State       30.2   \n",
       "1    14      2               2           None          Auburn       23.4   \n",
       "2    13      5              22              6          Auburn       22.1   \n",
       "3    13      6            None              6          Auburn       23.1   \n",
       "4    13      5              24           None          Auburn       18.4   \n",
       "5    14      4              10             12          Auburn         11   \n",
       "6    13      5            None              9          Auburn       14.1   \n",
       "7    13      4              14             16          Auburn       14.9   \n",
       "8     0      0            None             11          Auburn       20.7   \n",
       "\n",
       "  sp_offense sp_overall   srs ties wins  year  \n",
       "0       32.5        1.2   3.6    0    9  2012  \n",
       "1       46.8       25.2  22.1    0   12  2013  \n",
       "2       45.2       24.2  21.1    0    8  2014  \n",
       "3       36.1       14.6   9.1    0    7  2015  \n",
       "4       32.1       15.3  16.8    0    8  2016  \n",
       "5       35.4       24.7  23.6    0   10  2017  \n",
       "6       36.9       23.6  15.0    0    8  2018  \n",
       "7       33.9         21  22.1    0    9  2019  \n",
       "8         33       12.6  13.3    0    0  2020  "
      ]
     },
     "execution_count": 5,
     "metadata": {},
     "output_type": "execute_result"
    }
   ],
   "source": [
    "seasons_df = pd.read_json(coach_df2[0].to_json()).transpose()\n",
    "seasons_df"
   ]
  },
  {
   "cell_type": "markdown",
   "metadata": {},
   "source": [
    " "
   ]
  },
  {
   "cell_type": "markdown",
   "metadata": {},
   "source": [
    "#### Create a dictionary of which team he coached in which years"
   ]
  },
  {
   "cell_type": "code",
   "execution_count": 6,
   "metadata": {},
   "outputs": [
    {
     "data": {
      "text/plain": [
       "{2012: 'Arkansas State',\n",
       " 2013: 'Auburn',\n",
       " 2014: 'Auburn',\n",
       " 2015: 'Auburn',\n",
       " 2016: 'Auburn',\n",
       " 2017: 'Auburn',\n",
       " 2018: 'Auburn',\n",
       " 2019: 'Auburn',\n",
       " 2020: 'Auburn'}"
      ]
     },
     "execution_count": 6,
     "metadata": {},
     "output_type": "execute_result"
    }
   ],
   "source": [
    "year_dict = dict(zip(seasons_df.year, seasons_df.school))\n",
    "year_dict"
   ]
  },
  {
   "cell_type": "markdown",
   "metadata": {},
   "source": [
    " "
   ]
  },
  {
   "cell_type": "markdown",
   "metadata": {},
   "source": [
    "#### Iterate over the games he coached and get the play by play data from when his team was on offense"
   ]
  },
  {
   "cell_type": "code",
   "execution_count": 7,
   "metadata": {},
   "outputs": [
    {
     "name": "stdout",
     "output_type": "stream",
     "text": [
      "2012: Arkansas State\n",
      "2013: Auburn\n",
      "2014: Auburn\n",
      "2015: Auburn\n",
      "2016: Auburn\n",
      "2017: Auburn\n",
      "2018: Auburn\n",
      "2019: Auburn\n",
      "2020: Auburn\n"
     ]
    },
    {
     "data": {
      "text/html": [
       "<div>\n",
       "<style scoped>\n",
       "    .dataframe tbody tr th:only-of-type {\n",
       "        vertical-align: middle;\n",
       "    }\n",
       "\n",
       "    .dataframe tbody tr th {\n",
       "        vertical-align: top;\n",
       "    }\n",
       "\n",
       "    .dataframe thead th {\n",
       "        text-align: right;\n",
       "    }\n",
       "</style>\n",
       "<table border=\"1\" class=\"dataframe\">\n",
       "  <thead>\n",
       "    <tr style=\"text-align: right;\">\n",
       "      <th></th>\n",
       "      <th>away</th>\n",
       "      <th>clock</th>\n",
       "      <th>defense</th>\n",
       "      <th>defense_conference</th>\n",
       "      <th>defense_score</th>\n",
       "      <th>defense_timeouts</th>\n",
       "      <th>distance</th>\n",
       "      <th>down</th>\n",
       "      <th>drive_id</th>\n",
       "      <th>drive_number</th>\n",
       "      <th>...</th>\n",
       "      <th>period</th>\n",
       "      <th>play_number</th>\n",
       "      <th>play_text</th>\n",
       "      <th>play_type</th>\n",
       "      <th>ppa</th>\n",
       "      <th>scoring</th>\n",
       "      <th>yard_line</th>\n",
       "      <th>yards_gained</th>\n",
       "      <th>yards_to_goal</th>\n",
       "      <th>after_big_play_flg</th>\n",
       "    </tr>\n",
       "  </thead>\n",
       "  <tbody>\n",
       "    <tr>\n",
       "      <th>0</th>\n",
       "      <td>Arkansas State</td>\n",
       "      <td>{'minutes': 13, 'seconds': 8}</td>\n",
       "      <td>Oregon</td>\n",
       "      <td>Pac-12</td>\n",
       "      <td>8</td>\n",
       "      <td>NaN</td>\n",
       "      <td>10</td>\n",
       "      <td>1</td>\n",
       "      <td>32245248302</td>\n",
       "      <td>2</td>\n",
       "      <td>...</td>\n",
       "      <td>1</td>\n",
       "      <td>1</td>\n",
       "      <td>David Oku rush for no gain to the ArkSt 22.</td>\n",
       "      <td>Rush</td>\n",
       "      <td>-0.613590</td>\n",
       "      <td>False</td>\n",
       "      <td>78</td>\n",
       "      <td>0</td>\n",
       "      <td>78</td>\n",
       "      <td>False</td>\n",
       "    </tr>\n",
       "    <tr>\n",
       "      <th>1</th>\n",
       "      <td>Arkansas State</td>\n",
       "      <td>{'minutes': 12, 'seconds': 45}</td>\n",
       "      <td>Oregon</td>\n",
       "      <td>Pac-12</td>\n",
       "      <td>8</td>\n",
       "      <td>NaN</td>\n",
       "      <td>10</td>\n",
       "      <td>2</td>\n",
       "      <td>32245248302</td>\n",
       "      <td>2</td>\n",
       "      <td>...</td>\n",
       "      <td>1</td>\n",
       "      <td>2</td>\n",
       "      <td>ARKANSAS ST penalty 5 yard False Start accepted.</td>\n",
       "      <td>Penalty</td>\n",
       "      <td>NaN</td>\n",
       "      <td>False</td>\n",
       "      <td>78</td>\n",
       "      <td>0</td>\n",
       "      <td>78</td>\n",
       "      <td>False</td>\n",
       "    </tr>\n",
       "    <tr>\n",
       "      <th>2</th>\n",
       "      <td>Arkansas State</td>\n",
       "      <td>{'minutes': 12, 'seconds': 19}</td>\n",
       "      <td>Oregon</td>\n",
       "      <td>Pac-12</td>\n",
       "      <td>8</td>\n",
       "      <td>NaN</td>\n",
       "      <td>15</td>\n",
       "      <td>2</td>\n",
       "      <td>32245248302</td>\n",
       "      <td>2</td>\n",
       "      <td>...</td>\n",
       "      <td>1</td>\n",
       "      <td>3</td>\n",
       "      <td>Josh Jarboe rush for 1 yard to the ArkSt 18.</td>\n",
       "      <td>Rush</td>\n",
       "      <td>-0.103914</td>\n",
       "      <td>False</td>\n",
       "      <td>83</td>\n",
       "      <td>1</td>\n",
       "      <td>83</td>\n",
       "      <td>False</td>\n",
       "    </tr>\n",
       "    <tr>\n",
       "      <th>3</th>\n",
       "      <td>Arkansas State</td>\n",
       "      <td>{'minutes': 11, 'seconds': 48}</td>\n",
       "      <td>Oregon</td>\n",
       "      <td>Pac-12</td>\n",
       "      <td>8</td>\n",
       "      <td>NaN</td>\n",
       "      <td>14</td>\n",
       "      <td>3</td>\n",
       "      <td>32245248302</td>\n",
       "      <td>2</td>\n",
       "      <td>...</td>\n",
       "      <td>1</td>\n",
       "      <td>4</td>\n",
       "      <td>Ryan Aplin pass complete to David Oku for 13 y...</td>\n",
       "      <td>Pass Completion</td>\n",
       "      <td>0.398290</td>\n",
       "      <td>False</td>\n",
       "      <td>82</td>\n",
       "      <td>13</td>\n",
       "      <td>82</td>\n",
       "      <td>False</td>\n",
       "    </tr>\n",
       "    <tr>\n",
       "      <th>4</th>\n",
       "      <td>Arkansas State</td>\n",
       "      <td>{'minutes': 11, 'seconds': 2}</td>\n",
       "      <td>Oregon</td>\n",
       "      <td>Pac-12</td>\n",
       "      <td>8</td>\n",
       "      <td>NaN</td>\n",
       "      <td>1</td>\n",
       "      <td>4</td>\n",
       "      <td>32245248302</td>\n",
       "      <td>2</td>\n",
       "      <td>...</td>\n",
       "      <td>1</td>\n",
       "      <td>5</td>\n",
       "      <td>Neely Sullivent punt for 42 yards, returned by...</td>\n",
       "      <td>Punt</td>\n",
       "      <td>NaN</td>\n",
       "      <td>False</td>\n",
       "      <td>69</td>\n",
       "      <td>6</td>\n",
       "      <td>69</td>\n",
       "      <td>False</td>\n",
       "    </tr>\n",
       "  </tbody>\n",
       "</table>\n",
       "<p>5 rows × 27 columns</p>\n",
       "</div>"
      ],
      "text/plain": [
       "             away                           clock defense defense_conference  \\\n",
       "0  Arkansas State   {'minutes': 13, 'seconds': 8}  Oregon             Pac-12   \n",
       "1  Arkansas State  {'minutes': 12, 'seconds': 45}  Oregon             Pac-12   \n",
       "2  Arkansas State  {'minutes': 12, 'seconds': 19}  Oregon             Pac-12   \n",
       "3  Arkansas State  {'minutes': 11, 'seconds': 48}  Oregon             Pac-12   \n",
       "4  Arkansas State   {'minutes': 11, 'seconds': 2}  Oregon             Pac-12   \n",
       "\n",
       "   defense_score  defense_timeouts  distance  down     drive_id  drive_number  \\\n",
       "0              8               NaN        10     1  32245248302             2   \n",
       "1              8               NaN        10     2  32245248302             2   \n",
       "2              8               NaN        15     2  32245248302             2   \n",
       "3              8               NaN        14     3  32245248302             2   \n",
       "4              8               NaN         1     4  32245248302             2   \n",
       "\n",
       "   ...  period play_number                                          play_text  \\\n",
       "0  ...       1           1        David Oku rush for no gain to the ArkSt 22.   \n",
       "1  ...       1           2   ARKANSAS ST penalty 5 yard False Start accepted.   \n",
       "2  ...       1           3       Josh Jarboe rush for 1 yard to the ArkSt 18.   \n",
       "3  ...       1           4  Ryan Aplin pass complete to David Oku for 13 y...   \n",
       "4  ...       1           5  Neely Sullivent punt for 42 yards, returned by...   \n",
       "\n",
       "         play_type       ppa  scoring  yard_line  yards_gained  yards_to_goal  \\\n",
       "0             Rush -0.613590    False         78             0             78   \n",
       "1          Penalty       NaN    False         78             0             78   \n",
       "2             Rush -0.103914    False         83             1             83   \n",
       "3  Pass Completion  0.398290    False         82            13             82   \n",
       "4             Punt       NaN    False         69             6             69   \n",
       "\n",
       "  after_big_play_flg  \n",
       "0              False  \n",
       "1              False  \n",
       "2              False  \n",
       "3              False  \n",
       "4              False  \n",
       "\n",
       "[5 rows x 27 columns]"
      ]
     },
     "execution_count": 7,
     "metadata": {},
     "output_type": "execute_result"
    }
   ],
   "source": [
    "after_all_play_df = pd.DataFrame()\n",
    "for year in year_dict:\n",
    "    team = year_dict[year]\n",
    "    year = str(year)\n",
    "    print(year + ': ' + team)\n",
    "    weeks = pd.read_json('{}/games?year={}&team={}'.format(base, year, urllib.parse.quote(team)))\n",
    "    for week in weeks['week'].tolist():\n",
    "        plays = pd.read_json('{}/plays?year={}&week={}&offense={}'.format(base, year, week, urllib.parse.quote(team)))\n",
    "        if not plays.empty:\n",
    "            plays['after_big_play_flg'] = (plays['yards_gained'].shift() >= big_play_minimum) & (plays['scoring'].shift() == False) & (~plays['play_type'].isin(['Penalty','Timeout'])) & (plays['drive_number'] == plays['drive_number'].shift())\n",
    "            if after_all_play_df.empty:\n",
    "                after_all_play_df = plays.copy()\n",
    "            else:\n",
    "                after_all_play_df = pd.concat([after_all_play_df, plays])\n",
    "after_all_play_df.head()"
   ]
  },
  {
   "cell_type": "markdown",
   "metadata": {},
   "source": [
    " "
   ]
  },
  {
   "cell_type": "markdown",
   "metadata": {},
   "source": [
    "#### Ensure each play is properly identified as a Rush or Pass, and remove plays that were not on 1st down"
   ]
  },
  {
   "cell_type": "code",
   "execution_count": 8,
   "metadata": {},
   "outputs": [],
   "source": [
    "after_all_play_df['play_type_new'] = pd.np.where(after_all_play_df['play_type'].str.contains(\"Pass\"), \"Pass\", pd.np.where(after_all_play_df['play_type'].str.contains(\"Rush\"), \"Rush\", \"Other\"))\n",
    "after_all_play_df = after_all_play_df[(after_all_play_df['play_type_new'] != \"Other\") & (after_all_play_df['down'] == 1)]"
   ]
  },
  {
   "cell_type": "code",
   "execution_count": 9,
   "metadata": {},
   "outputs": [],
   "source": [
    "play_type_breakdown_big_play = after_all_play_df[after_all_play_df['after_big_play_flg'] == True]['play_type_new'].value_counts()\n",
    "play_type_breakdown_non_big_play = after_all_play_df[after_all_play_df['after_big_play_flg'] == False]['play_type_new'].value_counts()"
   ]
  },
  {
   "cell_type": "markdown",
   "metadata": {},
   "source": [
    " "
   ]
  },
  {
   "cell_type": "markdown",
   "metadata": {},
   "source": [
    "#### Graph results"
   ]
  },
  {
   "cell_type": "code",
   "execution_count": 10,
   "metadata": {},
   "outputs": [
    {
     "data": {
      "image/png": "[encoded data removed]",
      "text/plain": [
       "<Figure size 432x288 with 1 Axes>"
      ]
     },
     "metadata": {},
     "output_type": "display_data"
    }
   ],
   "source": [
    "plt.pie(play_type_breakdown_big_play, labels=play_type_breakdown_big_play.index, autopct='%1.1f%%')\n",
    "plt.title('{} {} 1st Down Play Selection\\nAfter a gain of {} yards or more\\n{} plays'.format(coach_first_name, coach_last_name, str(big_play_minimum), str(play_type_breakdown_big_play.sum())))\n",
    "plt.axis('equal')\n",
    "plt.show()"
   ]
  },
  {
   "cell_type": "code",
   "execution_count": 11,
   "metadata": {},
   "outputs": [
    {
     "data": {
      "image/png": "[encoded data removed]",
      "text/plain": [
       "<Figure size 432x288 with 1 Axes>"
      ]
     },
     "metadata": {},
     "output_type": "display_data"
    }
   ],
   "source": [
    "plt.pie(play_type_breakdown_non_big_play, labels=play_type_breakdown_non_big_play.index, autopct='%1.1f%%')\n",
    "plt.title('{} {} 1st Down Play Selection\\nAfter a gain of {} yards or less\\n{} plays'.format(coach_first_name, coach_last_name, str(big_play_minimum - 1), str(play_type_breakdown_non_big_play.sum())))\n",
    "plt.axis('equal')\n",
    "plt.show()"
   ]
  },
  {
   "cell_type": "markdown",
   "metadata": {},
   "source": [
    " "
   ]
  },
  {
   "cell_type": "markdown",
   "metadata": {},
   "source": [
    "#### Get the average Predicted Points Add (ppa) for each group of plays"
   ]
  },
  {
   "cell_type": "code",
   "execution_count": 12,
   "metadata": {},
   "outputs": [
    {
     "data": {
      "text/html": [
       "<div>\n",
       "<style scoped>\n",
       "    .dataframe tbody tr th:only-of-type {\n",
       "        vertical-align: middle;\n",
       "    }\n",
       "\n",
       "    .dataframe tbody tr th {\n",
       "        vertical-align: top;\n",
       "    }\n",
       "\n",
       "    .dataframe thead th {\n",
       "        text-align: right;\n",
       "    }\n",
       "</style>\n",
       "<table border=\"1\" class=\"dataframe\">\n",
       "  <thead>\n",
       "    <tr style=\"text-align: right;\">\n",
       "      <th>After Big Play?</th>\n",
       "      <th>False</th>\n",
       "      <th>True</th>\n",
       "    </tr>\n",
       "    <tr>\n",
       "      <th>Play Type</th>\n",
       "      <th></th>\n",
       "      <th></th>\n",
       "    </tr>\n",
       "  </thead>\n",
       "  <tbody>\n",
       "    <tr>\n",
       "      <th>Pass</th>\n",
       "      <td>0.22</td>\n",
       "      <td>0.11</td>\n",
       "    </tr>\n",
       "    <tr>\n",
       "      <th>Rush</th>\n",
       "      <td>0.08</td>\n",
       "      <td>0.06</td>\n",
       "    </tr>\n",
       "  </tbody>\n",
       "</table>\n",
       "</div>"
      ],
      "text/plain": [
       "After Big Play?  False  True \n",
       "Play Type                    \n",
       "Pass              0.22   0.11\n",
       "Rush              0.08   0.06"
      ]
     },
     "execution_count": 12,
     "metadata": {},
     "output_type": "execute_result"
    }
   ],
   "source": [
    "summary = after_all_play_df.rename(columns={'after_big_play_flg':'After Big Play?','play_type_new':'Play Type'})\n",
    "pd.pivot_table(summary, values='ppa', index='Play Type', columns='After Big Play?').round(2)"
   ]
  },
  {
   "cell_type": "code",
   "execution_count": null,
   "metadata": {},
   "outputs": [],
   "source": []
  }
 ],
 "metadata": {
  "kernelspec": {
   "display_name": "Python 3",
   "language": "python",
   "name": "python3"
  },
  "language_info": {
   "codemirror_mode": {
    "name": "ipython",
    "version": 3
   },
   "file_extension": ".py",
   "mimetype": "text/x-python",
   "name": "python",
   "nbconvert_exporter": "python",
   "pygments_lexer": "ipython3",
   "version": "3.7.3"
  }
 },
 "nbformat": 4,
 "nbformat_minor": 4
}
